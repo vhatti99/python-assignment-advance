{
 "cells": [
  {
   "cell_type": "markdown",
   "metadata": {},
   "source": [
    "#1 What is the purpose of Python's OOP?\n",
    "\n",
    "It aims to implement real-world entities like inheritance, polymorphisms, encapsulation, etc. in the programming.\n",
    "\n",
    "#2 Where does an inheritance search look for an attribute?\n",
    "\n",
    "The inheritance search is simply a search of the tree from bottom to top looking for the lowest occurrence of an attribute name.\n",
    "\n",
    "#3 How do you distinguish between a class object and an instance object?\n",
    "\n",
    "The difference between the two is that an object represents a set of instances while an instance is a certain, specific representation.\n",
    "\n",
    "#4 What makes the first argument in a class’s method function special?\n",
    "\n",
    "The first argument of every class method, including init, is always a reference to the current instance of the class. By convention, this argument is always named self.\n",
    "\n",
    "#5 What is the purpose of the init method?\n",
    "\n",
    "It is called as a constructor in object oriented terminology. This method is called when an object is created from a class and it allows the class to initialize the attributes of the class.\n",
    "\n",
    "#6 What is the process for creating a class instance?\n",
    "\n",
    "To create instances of a class, you call the class using class name and pass in whatever arguments its init method accepts.\n",
    "\n",
    "#7 What is the process for creating a class?\n",
    "\n",
    "Create a Class. To create a class, use the keyword class\n",
    "Create Object. Now we can use the class named MyClass to create objects\n",
    "The self Parameter\n",
    "Modify Object Properties\n",
    "Delete Object Properties\n",
    "Delete Objects.\n",
    "#8 How would you define the superclasses of a class?\n",
    "\n",
    "The class from which a class inherits is called the parent or superclass. A class which inherits from a superclass is called a subclass, also called heir class or child class.\n",
    "\n"
   ]
  },
  {
   "cell_type": "code",
   "execution_count": null,
   "metadata": {},
   "outputs": [],
   "source": []
  }
 ],
 "metadata": {
  "kernelspec": {
   "display_name": "Python 3",
   "language": "python",
   "name": "python3"
  },
  "language_info": {
   "codemirror_mode": {
    "name": "ipython",
    "version": 3
   },
   "file_extension": ".py",
   "mimetype": "text/x-python",
   "name": "python",
   "nbconvert_exporter": "python",
   "pygments_lexer": "ipython3",
   "version": "3.8.3"
  }
 },
 "nbformat": 4,
 "nbformat_minor": 4
}
